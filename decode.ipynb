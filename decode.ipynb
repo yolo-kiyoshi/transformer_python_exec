{
 "cells": [
  {
   "cell_type": "code",
   "execution_count": 1,
   "metadata": {},
   "outputs": [
    {
     "name": "stderr",
     "output_type": "stream",
     "text": [
      "/usr/local/lib/python3.7/site-packages/tensorflow/python/framework/dtypes.py:516: FutureWarning: Passing (type, 1) or '1type' as a synonym of type is deprecated; in a future version of numpy, it will be understood as (type, (1,)) / '(1,)type'.\n",
      "  _np_qint8 = np.dtype([(\"qint8\", np.int8, 1)])\n",
      "/usr/local/lib/python3.7/site-packages/tensorflow/python/framework/dtypes.py:517: FutureWarning: Passing (type, 1) or '1type' as a synonym of type is deprecated; in a future version of numpy, it will be understood as (type, (1,)) / '(1,)type'.\n",
      "  _np_quint8 = np.dtype([(\"quint8\", np.uint8, 1)])\n",
      "/usr/local/lib/python3.7/site-packages/tensorflow/python/framework/dtypes.py:518: FutureWarning: Passing (type, 1) or '1type' as a synonym of type is deprecated; in a future version of numpy, it will be understood as (type, (1,)) / '(1,)type'.\n",
      "  _np_qint16 = np.dtype([(\"qint16\", np.int16, 1)])\n",
      "/usr/local/lib/python3.7/site-packages/tensorflow/python/framework/dtypes.py:519: FutureWarning: Passing (type, 1) or '1type' as a synonym of type is deprecated; in a future version of numpy, it will be understood as (type, (1,)) / '(1,)type'.\n",
      "  _np_quint16 = np.dtype([(\"quint16\", np.uint16, 1)])\n",
      "/usr/local/lib/python3.7/site-packages/tensorflow/python/framework/dtypes.py:520: FutureWarning: Passing (type, 1) or '1type' as a synonym of type is deprecated; in a future version of numpy, it will be understood as (type, (1,)) / '(1,)type'.\n",
      "  _np_qint32 = np.dtype([(\"qint32\", np.int32, 1)])\n",
      "/usr/local/lib/python3.7/site-packages/tensorflow/python/framework/dtypes.py:525: FutureWarning: Passing (type, 1) or '1type' as a synonym of type is deprecated; in a future version of numpy, it will be understood as (type, (1,)) / '(1,)type'.\n",
      "  np_resource = np.dtype([(\"resource\", np.ubyte, 1)])\n"
     ]
    },
    {
     "name": "stdout",
     "output_type": "stream",
     "text": [
      "WARNING:tensorflow:From /usr/local/lib/python3.7/site-packages/tensor2tensor/utils/expert_utils.py:68: The name tf.variable_scope is deprecated. Please use tf.compat.v1.variable_scope instead.\n",
      "\n"
     ]
    },
    {
     "name": "stderr",
     "output_type": "stream",
     "text": [
      "/usr/local/lib/python3.7/site-packages/tensorboard/compat/tensorflow_stub/dtypes.py:541: FutureWarning: Passing (type, 1) or '1type' as a synonym of type is deprecated; in a future version of numpy, it will be understood as (type, (1,)) / '(1,)type'.\n",
      "  _np_qint8 = np.dtype([(\"qint8\", np.int8, 1)])\n",
      "/usr/local/lib/python3.7/site-packages/tensorboard/compat/tensorflow_stub/dtypes.py:542: FutureWarning: Passing (type, 1) or '1type' as a synonym of type is deprecated; in a future version of numpy, it will be understood as (type, (1,)) / '(1,)type'.\n",
      "  _np_quint8 = np.dtype([(\"quint8\", np.uint8, 1)])\n",
      "/usr/local/lib/python3.7/site-packages/tensorboard/compat/tensorflow_stub/dtypes.py:543: FutureWarning: Passing (type, 1) or '1type' as a synonym of type is deprecated; in a future version of numpy, it will be understood as (type, (1,)) / '(1,)type'.\n",
      "  _np_qint16 = np.dtype([(\"qint16\", np.int16, 1)])\n",
      "/usr/local/lib/python3.7/site-packages/tensorboard/compat/tensorflow_stub/dtypes.py:544: FutureWarning: Passing (type, 1) or '1type' as a synonym of type is deprecated; in a future version of numpy, it will be understood as (type, (1,)) / '(1,)type'.\n",
      "  _np_quint16 = np.dtype([(\"quint16\", np.uint16, 1)])\n",
      "/usr/local/lib/python3.7/site-packages/tensorboard/compat/tensorflow_stub/dtypes.py:545: FutureWarning: Passing (type, 1) or '1type' as a synonym of type is deprecated; in a future version of numpy, it will be understood as (type, (1,)) / '(1,)type'.\n",
      "  _np_qint32 = np.dtype([(\"qint32\", np.int32, 1)])\n",
      "/usr/local/lib/python3.7/site-packages/tensorboard/compat/tensorflow_stub/dtypes.py:550: FutureWarning: Passing (type, 1) or '1type' as a synonym of type is deprecated; in a future version of numpy, it will be understood as (type, (1,)) / '(1,)type'.\n",
      "  np_resource = np.dtype([(\"resource\", np.ubyte, 1)])\n"
     ]
    },
    {
     "name": "stdout",
     "output_type": "stream",
     "text": [
      "WARNING:tensorflow:\n",
      "The TensorFlow contrib module will not be included in TensorFlow 2.0.\n",
      "For more information, please see:\n",
      "  * https://github.com/tensorflow/community/blob/master/rfcs/20180907-contrib-sunset.md\n",
      "  * https://github.com/tensorflow/addons\n",
      "  * https://github.com/tensorflow/io (for I/O related ops)\n",
      "If you depend on functionality not listed there, please file an issue.\n",
      "\n",
      "WARNING:tensorflow:From /usr/local/lib/python3.7/site-packages/tensor2tensor/utils/adafactor.py:27: The name tf.train.Optimizer is deprecated. Please use tf.compat.v1.train.Optimizer instead.\n",
      "\n",
      "WARNING:tensorflow:From /usr/local/lib/python3.7/site-packages/tensor2tensor/utils/multistep_optimizer.py:32: The name tf.train.AdamOptimizer is deprecated. Please use tf.compat.v1.train.AdamOptimizer instead.\n",
      "\n",
      "WARNING:tensorflow:From /usr/local/lib/python3.7/site-packages/tensor2tensor/models/research/glow_init_hook.py:25: The name tf.train.SessionRunHook is deprecated. Please use tf.estimator.SessionRunHook instead.\n",
      "\n"
     ]
    }
   ],
   "source": [
    "from google.cloud import storage\n",
    "\n",
    "from tensor2tensor import models\n",
    "from tensor2tensor import problems\n",
    "from tensor2tensor.layers import common_layers\n",
    "from tensor2tensor.utils import trainer_lib\n",
    "from tensor2tensor.utils import t2t_model\n",
    "from tensor2tensor.utils import registry\n",
    "from tensor2tensor.utils import metrics\n",
    "\n",
    "import tensorflow as tf\n",
    "\n",
    "import numpy as np\n",
    "\n",
    "import os"
   ]
  },
  {
   "cell_type": "code",
   "execution_count": 2,
   "metadata": {},
   "outputs": [],
   "source": [
    "# GCSからファイルをダウンロードするメソッド(https://cloud.google.com/storage/docs/downloading-objects?hl=ja)\n",
    "def download_blob(bucket_name, source_blob_name, destination_file_name):\n",
    "    \"\"\"Downloads a blob from the bucket.\"\"\"\n",
    "    storage_client = storage.Client()\n",
    "    bucket = storage_client.get_bucket(bucket_name)\n",
    "    blob = bucket.blob(source_blob_name)\n",
    "\n",
    "    blob.download_to_filename(destination_file_name)\n",
    "\n",
    "    print('Blob {} downloaded to {}.'.format(\n",
    "        source_blob_name,\n",
    "        destination_file_name))"
   ]
  },
  {
   "cell_type": "code",
   "execution_count": 4,
   "metadata": {},
   "outputs": [],
   "source": [
    "# GCSのファイル一覧取得メソッドを参考\n",
    "# https://cloud.google.com/storage/docs/listing-objects?hl=ja#storage-list-objects-python\n",
    "def list_match_file_with_prefix(bucket_name, prefix, search_path):\n",
    "    \"\"\"Lists all the blobs in the bucket that begin with the prefix.\"\"\"\n",
    "    \n",
    "    storage_client = storage.Client()\n",
    "\n",
    "    # Note: Client.list_blobs requires at least package version 1.17.0.\n",
    "    blobs = storage_client.list_blobs(bucket_name, prefix=prefix, delimiter=None)\n",
    "\n",
    "    file_list = [blob.name for blob in blobs if search_path in blob.name]\n",
    "    \n",
    "    return file_list"
   ]
  },
  {
   "cell_type": "code",
   "execution_count": 11,
   "metadata": {},
   "outputs": [],
   "source": [
    "BUDGET_NAME = os.environ['BUDGET_NAME']\n",
    "PROBLEM = os.environ['PROBLEM']\n",
    "DATA_DIR = os.environ['DATA_DIR']\n",
    "TRAIN_DIR = os.environ['TRAIN_DIR']\n",
    "HPARAMS = os.environ['HPARAMS']\n",
    "MODEL = os.environ['MODEL']"
   ]
  },
  {
   "cell_type": "code",
   "execution_count": 12,
   "metadata": {},
   "outputs": [],
   "source": [
    "src_file_name = os.path.join(TRAIN_DIR, 'checkpoint')\n",
    "dist_file_name = os.path.join(TRAIN_DIR, 'checkpoint')"
   ]
  },
  {
   "cell_type": "code",
   "execution_count": 13,
   "metadata": {},
   "outputs": [
    {
     "name": "stdout",
     "output_type": "stream",
     "text": [
      "Blob training/transformer_ende/checkpoint downloaded to training/transformer_ende/checkpoint.\n"
     ]
    }
   ],
   "source": [
    "# checkpointのダウンロード\n",
    "download_blob(BUDGET_NAME, src_file_name, dist_file_name)"
   ]
  },
  {
   "cell_type": "code",
   "execution_count": 14,
   "metadata": {},
   "outputs": [],
   "source": [
    "import re\n",
    "with open(dist_file_name) as f:\n",
    "    l = f.readlines(1)\n",
    "    ckpt_name = re.findall('model_checkpoint_path: \"(.*?)\"', l[0])[0]\n",
    "    ckpt_path = os.path.join(TRAIN_DIR, ckpt_name)"
   ]
  },
  {
   "cell_type": "code",
   "execution_count": 86,
   "metadata": {},
   "outputs": [],
   "source": [
    "ckpt_file_list = list_match_file_with_prefix(BUDGET_NAME, TRAIN_DIR, ckpt_path)"
   ]
  },
  {
   "cell_type": "code",
   "execution_count": 87,
   "metadata": {},
   "outputs": [
    {
     "name": "stdout",
     "output_type": "stream",
     "text": [
      "Blob training/transformer_ende/model.ckpt-40000.data-00000-of-00001 downloaded to training/transformer_ende/model.ckpt-40000.data-00000-of-00001.\n",
      "Blob training/transformer_ende/model.ckpt-40000.index downloaded to training/transformer_ende/model.ckpt-40000.index.\n",
      "Blob training/transformer_ende/model.ckpt-40000.meta downloaded to training/transformer_ende/model.ckpt-40000.meta.\n"
     ]
    }
   ],
   "source": [
    "# checkpoint.variableを一式ダウンロード\n",
    "for ckpt_file in ckpt_file_list:\n",
    "    download_blob(BUDGET_NAME, ckpt_file, ckpt_file)"
   ]
  },
  {
   "cell_type": "code",
   "execution_count": 15,
   "metadata": {},
   "outputs": [],
   "source": [
    "vocab_file = list_match_file_with_prefix(BUDGET_NAME, DATA_DIR, os.path.join(DATA_DIR, 'vocab'))[0]"
   ]
  },
  {
   "cell_type": "code",
   "execution_count": 92,
   "metadata": {},
   "outputs": [
    {
     "name": "stdout",
     "output_type": "stream",
     "text": [
      "Blob transformer/vocab.translate_jpen.8192.subwords downloaded to transformer/vocab.translate_jpen.8192.subwords.\n"
     ]
    }
   ],
   "source": [
    "download_blob(BUDGET_NAME, vocab_file, vocab_file)"
   ]
  },
  {
   "cell_type": "code",
   "execution_count": 16,
   "metadata": {},
   "outputs": [],
   "source": [
    "tfe = tf.contrib.eager\n",
    "tfe.enable_eager_execution()\n",
    "Modes = tf.estimator.ModeKeys"
   ]
  },
  {
   "cell_type": "code",
   "execution_count": 18,
   "metadata": {},
   "outputs": [],
   "source": [
    "import pickle\n",
    "\n",
    "import numpy as np\n",
    "\n",
    "from tensor2tensor.data_generators import problem\n",
    "from tensor2tensor.data_generators import text_problems\n",
    "from tensor2tensor.utils import registry\n",
    "\n",
    "# 前処理&学習で定義したPROBLEと同一のClass名にすること\n",
    "@registry.register_problem\n",
    "class Translate_JPEN(text_problems.Text2TextProblem):\n",
    "    @property\n",
    "    def approx_vocab_size(self):\n",
    "        return 2**13"
   ]
  },
  {
   "cell_type": "code",
   "execution_count": 19,
   "metadata": {},
   "outputs": [],
   "source": [
    "enfr_problem = problems.problem(PROBLEM)"
   ]
  },
  {
   "cell_type": "code",
   "execution_count": 20,
   "metadata": {},
   "outputs": [
    {
     "name": "stdout",
     "output_type": "stream",
     "text": [
      "WARNING:tensorflow:From /usr/local/lib/python3.7/site-packages/tensor2tensor/data_generators/text_encoder.py:940: The name tf.gfile.Exists is deprecated. Please use tf.io.gfile.exists instead.\n",
      "\n",
      "WARNING:tensorflow:From /usr/local/lib/python3.7/site-packages/tensor2tensor/data_generators/text_encoder.py:942: The name tf.gfile.Open is deprecated. Please use tf.io.gfile.GFile instead.\n",
      "\n"
     ]
    }
   ],
   "source": [
    "# Get the encoders from the problem\n",
    "encoders = enfr_problem.feature_encoders(DATA_DIR)"
   ]
  },
  {
   "cell_type": "code",
   "execution_count": 21,
   "metadata": {},
   "outputs": [],
   "source": [
    "from functools import wraps\n",
    "import time\n",
    "\n",
    "def stop_watch(func) :\n",
    "    @wraps(func)\n",
    "    def wrapper(*args, **kargs) :\n",
    "        start = time.time()\n",
    "        print(f'{func.__name__} started ...')\n",
    "        result = func(*args,**kargs)\n",
    "        elapsed_time =  time.time() - start\n",
    "        print(f'elapsed_time:{elapsed_time}')\n",
    "        print(f'{func.__name__} completed')\n",
    "        return result\n",
    "    return wrapper"
   ]
  },
  {
   "cell_type": "code",
   "execution_count": 22,
   "metadata": {},
   "outputs": [],
   "source": [
    "@stop_watch\n",
    "def translate(inputs):\n",
    "    encoded_inputs = encode(inputs)\n",
    "    with tfe.restore_variables_on_create(ckpt_path):\n",
    "        model_output = translate_model.infer(features=encoded_inputs)[\"outputs\"]\n",
    "    return decode(model_output)\n",
    "\n",
    "def encode(input_str, output_str=None):\n",
    "    \"\"\"Input str to features dict, ready for inference\"\"\"\n",
    "    inputs = encoders[\"inputs\"].encode(input_str) + [1]  # add EOS id\n",
    "    batch_inputs = tf.reshape(inputs, [1, -1, 1])  # Make it 3D.\n",
    "    return {\"inputs\": batch_inputs}\n",
    "\n",
    "def decode(integers):\n",
    "    \"\"\"List of ints to str\"\"\"\n",
    "    integers = list(np.squeeze(integers))\n",
    "    if 1 in integers:\n",
    "        integers = integers[:integers.index(1)]\n",
    "    return encoders[\"inputs\"].decode(np.squeeze(integers))"
   ]
  },
  {
   "cell_type": "code",
   "execution_count": 24,
   "metadata": {},
   "outputs": [
    {
     "name": "stdout",
     "output_type": "stream",
     "text": [
      "WARNING:tensorflow:From /usr/local/lib/python3.7/site-packages/tensor2tensor/utils/t2t_model.py:1881: The name tf.logging.info is deprecated. Please use tf.compat.v1.logging.info instead.\n",
      "\n",
      "INFO:tensorflow:Setting T2TModel mode to 'infer'\n",
      "INFO:tensorflow:Setting hparams.dropout to 0.0\n",
      "INFO:tensorflow:Setting hparams.label_smoothing to 0.0\n",
      "INFO:tensorflow:Setting hparams.layer_prepostprocess_dropout to 0.0\n",
      "INFO:tensorflow:Setting hparams.symbol_dropout to 0.0\n",
      "INFO:tensorflow:Setting hparams.attention_dropout to 0.0\n",
      "INFO:tensorflow:Setting hparams.relu_dropout to 0.0\n",
      "WARNING:tensorflow:From /usr/local/lib/python3.7/site-packages/tensor2tensor/layers/common_layers.py:74: The name tf.get_default_graph is deprecated. Please use tf.compat.v1.get_default_graph instead.\n",
      "\n",
      "WARNING:tensorflow:From /usr/local/lib/python3.7/site-packages/tensor2tensor/utils/t2t_model.py:152: The name tf.summary.text is deprecated. Please use tf.compat.v1.summary.text instead.\n",
      "\n"
     ]
    }
   ],
   "source": [
    "hparams = trainer_lib.create_hparams(HPARAMS, data_dir=DATA_DIR, problem_name=PROBLEM)\n",
    "translate_model = registry.model(MODEL)(hparams, Modes.PREDICT)"
   ]
  },
  {
   "cell_type": "code",
   "execution_count": 26,
   "metadata": {},
   "outputs": [
    {
     "name": "stdout",
     "output_type": "stream",
     "text": [
      "translate started ...\n",
      ":::MLPv0.5.0 transformer 1580438305.780114651 (/usr/local/lib/python3.7/site-packages/tensor2tensor/utils/expert_utils.py:231) model_hp_layer_postprocess_dropout: 0.0\n",
      ":::MLPv0.5.0 transformer 1580438305.916484118 (/usr/local/lib/python3.7/site-packages/tensor2tensor/models/transformer.py:101) model_hp_hidden_layers: 6\n",
      ":::MLPv0.5.0 transformer 1580438306.014828682 (/usr/local/lib/python3.7/site-packages/tensor2tensor/models/transformer.py:101) model_hp_attention_num_heads: 8\n",
      ":::MLPv0.5.0 transformer 1580438306.103340864 (/usr/local/lib/python3.7/site-packages/tensor2tensor/models/transformer.py:101) model_hp_attention_dropout: 0.0\n",
      ":::MLPv0.5.0 transformer 1580438306.295593739 (/usr/local/lib/python3.7/site-packages/tensor2tensor/layers/transformer_layers.py:182) model_hp_ffn_filter: {\"filter_size\": 2048, \"use_bias\": \"True\", \"activation\": \"relu\"}\n",
      ":::MLPv0.5.0 transformer 1580438306.394455194 (/usr/local/lib/python3.7/site-packages/tensor2tensor/layers/transformer_layers.py:182) model_hp_ffn_dense: {\"hidden_size\": 512, \"use_bias\": \"True\"}\n",
      ":::MLPv0.5.0 transformer 1580438307.968967676 (/usr/local/lib/python3.7/site-packages/tensor2tensor/layers/transformer_layers.py:182) model_hp_relu_dropout: 0.0\n",
      ":::MLPv0.5.0 transformer 1580438308.177802086 (/usr/local/lib/python3.7/site-packages/tensor2tensor/layers/transformer_layers.py:182) model_hp_ffn_filter: {\"filter_size\": 2048, \"use_bias\": \"True\", \"activation\": \"relu\"}\n",
      ":::MLPv0.5.0 transformer 1580438308.263170719 (/usr/local/lib/python3.7/site-packages/tensor2tensor/layers/transformer_layers.py:182) model_hp_ffn_dense: {\"hidden_size\": 512, \"use_bias\": \"True\"}\n",
      ":::MLPv0.5.0 transformer 1580438308.338624477 (/usr/local/lib/python3.7/site-packages/tensor2tensor/layers/transformer_layers.py:182) model_hp_relu_dropout: 0.0\n",
      ":::MLPv0.5.0 transformer 1580438308.536920309 (/usr/local/lib/python3.7/site-packages/tensor2tensor/layers/transformer_layers.py:182) model_hp_ffn_filter: {\"filter_size\": 2048, \"use_bias\": \"True\", \"activation\": \"relu\"}\n",
      ":::MLPv0.5.0 transformer 1580438308.643337965 (/usr/local/lib/python3.7/site-packages/tensor2tensor/layers/transformer_layers.py:182) model_hp_ffn_dense: {\"hidden_size\": 512, \"use_bias\": \"True\"}\n",
      ":::MLPv0.5.0 transformer 1580438308.740259647 (/usr/local/lib/python3.7/site-packages/tensor2tensor/layers/transformer_layers.py:182) model_hp_relu_dropout: 0.0\n",
      ":::MLPv0.5.0 transformer 1580438308.932378769 (/usr/local/lib/python3.7/site-packages/tensor2tensor/layers/transformer_layers.py:182) model_hp_ffn_filter: {\"filter_size\": 2048, \"use_bias\": \"True\", \"activation\": \"relu\"}\n",
      ":::MLPv0.5.0 transformer 1580438309.018441200 (/usr/local/lib/python3.7/site-packages/tensor2tensor/layers/transformer_layers.py:182) model_hp_ffn_dense: {\"hidden_size\": 512, \"use_bias\": \"True\"}\n",
      ":::MLPv0.5.0 transformer 1580438309.235601664 (/usr/local/lib/python3.7/site-packages/tensor2tensor/layers/transformer_layers.py:182) model_hp_relu_dropout: 0.0\n",
      ":::MLPv0.5.0 transformer 1580438309.406941414 (/usr/local/lib/python3.7/site-packages/tensor2tensor/layers/transformer_layers.py:182) model_hp_ffn_filter: {\"filter_size\": 2048, \"use_bias\": \"True\", \"activation\": \"relu\"}\n",
      ":::MLPv0.5.0 transformer 1580438309.482315540 (/usr/local/lib/python3.7/site-packages/tensor2tensor/layers/transformer_layers.py:182) model_hp_ffn_dense: {\"hidden_size\": 512, \"use_bias\": \"True\"}\n",
      ":::MLPv0.5.0 transformer 1580438309.556619167 (/usr/local/lib/python3.7/site-packages/tensor2tensor/layers/transformer_layers.py:182) model_hp_relu_dropout: 0.0\n",
      ":::MLPv0.5.0 transformer 1580438309.698387384 (/usr/local/lib/python3.7/site-packages/tensor2tensor/layers/transformer_layers.py:182) model_hp_ffn_filter: {\"filter_size\": 2048, \"use_bias\": \"True\", \"activation\": \"relu\"}\n",
      ":::MLPv0.5.0 transformer 1580438309.779567003 (/usr/local/lib/python3.7/site-packages/tensor2tensor/layers/transformer_layers.py:182) model_hp_ffn_dense: {\"hidden_size\": 512, \"use_bias\": \"True\"}\n",
      ":::MLPv0.5.0 transformer 1580438309.851809978 (/usr/local/lib/python3.7/site-packages/tensor2tensor/layers/transformer_layers.py:182) model_hp_relu_dropout: 0.0\n",
      ":::MLPv0.5.0 transformer 1580438310.109214783 (/usr/local/lib/python3.7/site-packages/tensor2tensor/models/transformer.py:101) model_hp_norm: {\"hidden_size\": 512}\n",
      ":::MLPv0.5.0 transformer 1580438310.301119328 (/usr/local/lib/python3.7/site-packages/tensor2tensor/utils/expert_utils.py:231) model_hp_layer_postprocess_dropout: 0.0\n",
      ":::MLPv0.5.0 transformer 1580438310.396266937 (/usr/local/lib/python3.7/site-packages/tensor2tensor/models/transformer.py:153) model_hp_hidden_layers: 6\n",
      ":::MLPv0.5.0 transformer 1580438310.479987621 (/usr/local/lib/python3.7/site-packages/tensor2tensor/models/transformer.py:153) model_hp_attention_num_heads: 8\n",
      ":::MLPv0.5.0 transformer 1580438310.559190750 (/usr/local/lib/python3.7/site-packages/tensor2tensor/models/transformer.py:153) model_hp_attention_dropout: 0.0\n",
      ":::MLPv0.5.0 transformer 1580438310.691377163 (/usr/local/lib/python3.7/site-packages/tensor2tensor/models/transformer.py:1290) model_hp_ffn_filter: {\"filter_size\": 2048, \"use_bias\": \"True\", \"activation\": \"relu\"}\n",
      ":::MLPv0.5.0 transformer 1580438310.784017086 (/usr/local/lib/python3.7/site-packages/tensor2tensor/models/transformer.py:1290) model_hp_ffn_dense: {\"hidden_size\": 512, \"use_bias\": \"True\"}\n",
      ":::MLPv0.5.0 transformer 1580438310.856657743 (/usr/local/lib/python3.7/site-packages/tensor2tensor/models/transformer.py:1290) model_hp_relu_dropout: 0.0\n",
      ":::MLPv0.5.0 transformer 1580438311.278437853 (/usr/local/lib/python3.7/site-packages/tensor2tensor/models/transformer.py:1290) model_hp_ffn_filter: {\"filter_size\": 2048, \"use_bias\": \"True\", \"activation\": \"relu\"}\n",
      ":::MLPv0.5.0 transformer 1580438311.378609896 (/usr/local/lib/python3.7/site-packages/tensor2tensor/models/transformer.py:1290) model_hp_ffn_dense: {\"hidden_size\": 512, \"use_bias\": \"True\"}\n",
      ":::MLPv0.5.0 transformer 1580438311.487947464 (/usr/local/lib/python3.7/site-packages/tensor2tensor/models/transformer.py:1290) model_hp_relu_dropout: 0.0\n",
      ":::MLPv0.5.0 transformer 1580438311.779461622 (/usr/local/lib/python3.7/site-packages/tensor2tensor/models/transformer.py:1290) model_hp_ffn_filter: {\"filter_size\": 2048, \"use_bias\": \"True\", \"activation\": \"relu\"}\n",
      ":::MLPv0.5.0 transformer 1580438311.858769894 (/usr/local/lib/python3.7/site-packages/tensor2tensor/models/transformer.py:1290) model_hp_ffn_dense: {\"hidden_size\": 512, \"use_bias\": \"True\"}\n",
      ":::MLPv0.5.0 transformer 1580438311.938699484 (/usr/local/lib/python3.7/site-packages/tensor2tensor/models/transformer.py:1290) model_hp_relu_dropout: 0.0\n",
      ":::MLPv0.5.0 transformer 1580438312.238438368 (/usr/local/lib/python3.7/site-packages/tensor2tensor/models/transformer.py:1290) model_hp_ffn_filter: {\"filter_size\": 2048, \"use_bias\": \"True\", \"activation\": \"relu\"}\n",
      ":::MLPv0.5.0 transformer 1580438312.339151621 (/usr/local/lib/python3.7/site-packages/tensor2tensor/models/transformer.py:1290) model_hp_ffn_dense: {\"hidden_size\": 512, \"use_bias\": \"True\"}\n",
      ":::MLPv0.5.0 transformer 1580438312.414969921 (/usr/local/lib/python3.7/site-packages/tensor2tensor/models/transformer.py:1290) model_hp_relu_dropout: 0.0\n",
      ":::MLPv0.5.0 transformer 1580438312.743389845 (/usr/local/lib/python3.7/site-packages/tensor2tensor/models/transformer.py:1290) model_hp_ffn_filter: {\"filter_size\": 2048, \"use_bias\": \"True\", \"activation\": \"relu\"}\n",
      ":::MLPv0.5.0 transformer 1580438312.833294153 (/usr/local/lib/python3.7/site-packages/tensor2tensor/models/transformer.py:1290) model_hp_ffn_dense: {\"hidden_size\": 512, \"use_bias\": \"True\"}\n",
      ":::MLPv0.5.0 transformer 1580438313.056601286 (/usr/local/lib/python3.7/site-packages/tensor2tensor/models/transformer.py:1290) model_hp_relu_dropout: 0.0\n",
      ":::MLPv0.5.0 transformer 1580438313.375470877 (/usr/local/lib/python3.7/site-packages/tensor2tensor/models/transformer.py:1290) model_hp_ffn_filter: {\"filter_size\": 2048, \"use_bias\": \"True\", \"activation\": \"relu\"}\n",
      ":::MLPv0.5.0 transformer 1580438313.484224319 (/usr/local/lib/python3.7/site-packages/tensor2tensor/models/transformer.py:1290) model_hp_ffn_dense: {\"hidden_size\": 512, \"use_bias\": \"True\"}\n",
      ":::MLPv0.5.0 transformer 1580438313.621943951 (/usr/local/lib/python3.7/site-packages/tensor2tensor/models/transformer.py:1290) model_hp_relu_dropout: 0.0\n",
      ":::MLPv0.5.0 transformer 1580438313.878673077 (/usr/local/lib/python3.7/site-packages/tensor2tensor/models/transformer.py:153) model_hp_norm: {\"hidden_size\": 512}\n",
      ":::MLPv0.5.0 transformer 1580438314.181558371 (/usr/local/lib/python3.7/site-packages/tensor2tensor/utils/expert_utils.py:231) model_hp_layer_postprocess_dropout: 0.0\n",
      ":::MLPv0.5.0 transformer 1580438314.285378456 (/usr/local/lib/python3.7/site-packages/tensor2tensor/models/transformer.py:153) model_hp_hidden_layers: 6\n",
      ":::MLPv0.5.0 transformer 1580438314.362729311 (/usr/local/lib/python3.7/site-packages/tensor2tensor/models/transformer.py:153) model_hp_attention_num_heads: 8\n",
      ":::MLPv0.5.0 transformer 1580438314.439503908 (/usr/local/lib/python3.7/site-packages/tensor2tensor/models/transformer.py:153) model_hp_attention_dropout: 0.0\n",
      ":::MLPv0.5.0 transformer 1580438314.755571127 (/usr/local/lib/python3.7/site-packages/tensor2tensor/models/transformer.py:1290) model_hp_ffn_filter: {\"filter_size\": 2048, \"use_bias\": \"True\", \"activation\": \"relu\"}\n",
      ":::MLPv0.5.0 transformer 1580438314.839542866 (/usr/local/lib/python3.7/site-packages/tensor2tensor/models/transformer.py:1290) model_hp_ffn_dense: {\"hidden_size\": 512, \"use_bias\": \"True\"}\n",
      ":::MLPv0.5.0 transformer 1580438314.918690920 (/usr/local/lib/python3.7/site-packages/tensor2tensor/models/transformer.py:1290) model_hp_relu_dropout: 0.0\n",
      ":::MLPv0.5.0 transformer 1580438315.023887873 (/usr/local/lib/python3.7/site-packages/tensor2tensor/models/transformer.py:1290) model_hp_ffn_filter: {\"filter_size\": 2048, \"use_bias\": \"True\", \"activation\": \"relu\"}\n",
      ":::MLPv0.5.0 transformer 1580438315.099419355 (/usr/local/lib/python3.7/site-packages/tensor2tensor/models/transformer.py:1290) model_hp_ffn_dense: {\"hidden_size\": 512, \"use_bias\": \"True\"}\n",
      ":::MLPv0.5.0 transformer 1580438315.177792549 (/usr/local/lib/python3.7/site-packages/tensor2tensor/models/transformer.py:1290) model_hp_relu_dropout: 0.0\n",
      ":::MLPv0.5.0 transformer 1580438315.268120766 (/usr/local/lib/python3.7/site-packages/tensor2tensor/models/transformer.py:1290) model_hp_ffn_filter: {\"filter_size\": 2048, \"use_bias\": \"True\", \"activation\": \"relu\"}\n",
      ":::MLPv0.5.0 transformer 1580438315.501724720 (/usr/local/lib/python3.7/site-packages/tensor2tensor/models/transformer.py:1290) model_hp_ffn_dense: {\"hidden_size\": 512, \"use_bias\": \"True\"}\n",
      ":::MLPv0.5.0 transformer 1580438315.574498653 (/usr/local/lib/python3.7/site-packages/tensor2tensor/models/transformer.py:1290) model_hp_relu_dropout: 0.0\n",
      ":::MLPv0.5.0 transformer 1580438315.676472425 (/usr/local/lib/python3.7/site-packages/tensor2tensor/models/transformer.py:1290) model_hp_ffn_filter: {\"filter_size\": 2048, \"use_bias\": \"True\", \"activation\": \"relu\"}\n",
      ":::MLPv0.5.0 transformer 1580438315.748752832 (/usr/local/lib/python3.7/site-packages/tensor2tensor/models/transformer.py:1290) model_hp_ffn_dense: {\"hidden_size\": 512, \"use_bias\": \"True\"}\n",
      ":::MLPv0.5.0 transformer 1580438315.818511963 (/usr/local/lib/python3.7/site-packages/tensor2tensor/models/transformer.py:1290) model_hp_relu_dropout: 0.0\n",
      ":::MLPv0.5.0 transformer 1580438315.916144371 (/usr/local/lib/python3.7/site-packages/tensor2tensor/models/transformer.py:1290) model_hp_ffn_filter: {\"filter_size\": 2048, \"use_bias\": \"True\", \"activation\": \"relu\"}\n",
      ":::MLPv0.5.0 transformer 1580438316.013774157 (/usr/local/lib/python3.7/site-packages/tensor2tensor/models/transformer.py:1290) model_hp_ffn_dense: {\"hidden_size\": 512, \"use_bias\": \"True\"}\n",
      ":::MLPv0.5.0 transformer 1580438316.100467205 (/usr/local/lib/python3.7/site-packages/tensor2tensor/models/transformer.py:1290) model_hp_relu_dropout: 0.0\n",
      ":::MLPv0.5.0 transformer 1580438316.202247620 (/usr/local/lib/python3.7/site-packages/tensor2tensor/models/transformer.py:1290) model_hp_ffn_filter: {\"filter_size\": 2048, \"use_bias\": \"True\", \"activation\": \"relu\"}\n",
      ":::MLPv0.5.0 transformer 1580438316.303400755 (/usr/local/lib/python3.7/site-packages/tensor2tensor/models/transformer.py:1290) model_hp_ffn_dense: {\"hidden_size\": 512, \"use_bias\": \"True\"}\n",
      ":::MLPv0.5.0 transformer 1580438316.394231319 (/usr/local/lib/python3.7/site-packages/tensor2tensor/models/transformer.py:1290) model_hp_relu_dropout: 0.0\n",
      ":::MLPv0.5.0 transformer 1580438316.484189034 (/usr/local/lib/python3.7/site-packages/tensor2tensor/models/transformer.py:153) model_hp_norm: {\"hidden_size\": 512}\n",
      ":::MLPv0.5.0 transformer 1580438316.729820251 (/usr/local/lib/python3.7/site-packages/tensor2tensor/utils/expert_utils.py:231) model_hp_layer_postprocess_dropout: 0.0\n",
      ":::MLPv0.5.0 transformer 1580438316.828463078 (/usr/local/lib/python3.7/site-packages/tensor2tensor/models/transformer.py:153) model_hp_hidden_layers: 6\n",
      ":::MLPv0.5.0 transformer 1580438316.922686577 (/usr/local/lib/python3.7/site-packages/tensor2tensor/models/transformer.py:153) model_hp_attention_num_heads: 8\n",
      ":::MLPv0.5.0 transformer 1580438317.029456377 (/usr/local/lib/python3.7/site-packages/tensor2tensor/models/transformer.py:153) model_hp_attention_dropout: 0.0\n",
      ":::MLPv0.5.0 transformer 1580438317.150169611 (/usr/local/lib/python3.7/site-packages/tensor2tensor/models/transformer.py:1290) model_hp_ffn_filter: {\"filter_size\": 2048, \"use_bias\": \"True\", \"activation\": \"relu\"}\n",
      ":::MLPv0.5.0 transformer 1580438317.250467062 (/usr/local/lib/python3.7/site-packages/tensor2tensor/models/transformer.py:1290) model_hp_ffn_dense: {\"hidden_size\": 512, \"use_bias\": \"True\"}\n",
      ":::MLPv0.5.0 transformer 1580438317.326248884 (/usr/local/lib/python3.7/site-packages/tensor2tensor/models/transformer.py:1290) model_hp_relu_dropout: 0.0\n",
      ":::MLPv0.5.0 transformer 1580438317.437001467 (/usr/local/lib/python3.7/site-packages/tensor2tensor/models/transformer.py:1290) model_hp_ffn_filter: {\"filter_size\": 2048, \"use_bias\": \"True\", \"activation\": \"relu\"}\n",
      ":::MLPv0.5.0 transformer 1580438317.649432659 (/usr/local/lib/python3.7/site-packages/tensor2tensor/models/transformer.py:1290) model_hp_ffn_dense: {\"hidden_size\": 512, \"use_bias\": \"True\"}\n",
      ":::MLPv0.5.0 transformer 1580438317.748507977 (/usr/local/lib/python3.7/site-packages/tensor2tensor/models/transformer.py:1290) model_hp_relu_dropout: 0.0\n",
      ":::MLPv0.5.0 transformer 1580438317.872769356 (/usr/local/lib/python3.7/site-packages/tensor2tensor/models/transformer.py:1290) model_hp_ffn_filter: {\"filter_size\": 2048, \"use_bias\": \"True\", \"activation\": \"relu\"}\n",
      ":::MLPv0.5.0 transformer 1580438317.978559971 (/usr/local/lib/python3.7/site-packages/tensor2tensor/models/transformer.py:1290) model_hp_ffn_dense: {\"hidden_size\": 512, \"use_bias\": \"True\"}\n",
      ":::MLPv0.5.0 transformer 1580438318.061502934 (/usr/local/lib/python3.7/site-packages/tensor2tensor/models/transformer.py:1290) model_hp_relu_dropout: 0.0\n",
      ":::MLPv0.5.0 transformer 1580438318.206721544 (/usr/local/lib/python3.7/site-packages/tensor2tensor/models/transformer.py:1290) model_hp_ffn_filter: {\"filter_size\": 2048, \"use_bias\": \"True\", \"activation\": \"relu\"}\n",
      ":::MLPv0.5.0 transformer 1580438318.302675724 (/usr/local/lib/python3.7/site-packages/tensor2tensor/models/transformer.py:1290) model_hp_ffn_dense: {\"hidden_size\": 512, \"use_bias\": \"True\"}\n",
      ":::MLPv0.5.0 transformer 1580438318.401036024 (/usr/local/lib/python3.7/site-packages/tensor2tensor/models/transformer.py:1290) model_hp_relu_dropout: 0.0\n",
      ":::MLPv0.5.0 transformer 1580438318.714613438 (/usr/local/lib/python3.7/site-packages/tensor2tensor/models/transformer.py:1290) model_hp_ffn_filter: {\"filter_size\": 2048, \"use_bias\": \"True\", \"activation\": \"relu\"}\n",
      ":::MLPv0.5.0 transformer 1580438318.809406996 (/usr/local/lib/python3.7/site-packages/tensor2tensor/models/transformer.py:1290) model_hp_ffn_dense: {\"hidden_size\": 512, \"use_bias\": \"True\"}\n",
      ":::MLPv0.5.0 transformer 1580438318.913965940 (/usr/local/lib/python3.7/site-packages/tensor2tensor/models/transformer.py:1290) model_hp_relu_dropout: 0.0\n",
      ":::MLPv0.5.0 transformer 1580438319.062326431 (/usr/local/lib/python3.7/site-packages/tensor2tensor/models/transformer.py:1290) model_hp_ffn_filter: {\"filter_size\": 2048, \"use_bias\": \"True\", \"activation\": \"relu\"}\n",
      ":::MLPv0.5.0 transformer 1580438319.156553268 (/usr/local/lib/python3.7/site-packages/tensor2tensor/models/transformer.py:1290) model_hp_ffn_dense: {\"hidden_size\": 512, \"use_bias\": \"True\"}\n",
      ":::MLPv0.5.0 transformer 1580438319.252848148 (/usr/local/lib/python3.7/site-packages/tensor2tensor/models/transformer.py:1290) model_hp_relu_dropout: 0.0\n",
      ":::MLPv0.5.0 transformer 1580438319.340319395 (/usr/local/lib/python3.7/site-packages/tensor2tensor/models/transformer.py:153) model_hp_norm: {\"hidden_size\": 512}\n",
      ":::MLPv0.5.0 transformer 1580438319.420402765 (/usr/local/lib/python3.7/site-packages/tensor2tensor/utils/expert_utils.py:231) model_hp_layer_postprocess_dropout: 0.0\n",
      ":::MLPv0.5.0 transformer 1580438319.497557878 (/usr/local/lib/python3.7/site-packages/tensor2tensor/models/transformer.py:153) model_hp_hidden_layers: 6\n",
      ":::MLPv0.5.0 transformer 1580438319.577859640 (/usr/local/lib/python3.7/site-packages/tensor2tensor/models/transformer.py:153) model_hp_attention_num_heads: 8\n",
      ":::MLPv0.5.0 transformer 1580438319.665367603 (/usr/local/lib/python3.7/site-packages/tensor2tensor/models/transformer.py:153) model_hp_attention_dropout: 0.0\n",
      ":::MLPv0.5.0 transformer 1580438319.935834885 (/usr/local/lib/python3.7/site-packages/tensor2tensor/models/transformer.py:1290) model_hp_ffn_filter: {\"filter_size\": 2048, \"use_bias\": \"True\", \"activation\": \"relu\"}\n",
      ":::MLPv0.5.0 transformer 1580438320.031588316 (/usr/local/lib/python3.7/site-packages/tensor2tensor/models/transformer.py:1290) model_hp_ffn_dense: {\"hidden_size\": 512, \"use_bias\": \"True\"}\n",
      ":::MLPv0.5.0 transformer 1580438320.105195045 (/usr/local/lib/python3.7/site-packages/tensor2tensor/models/transformer.py:1290) model_hp_relu_dropout: 0.0\n",
      ":::MLPv0.5.0 transformer 1580438320.209097624 (/usr/local/lib/python3.7/site-packages/tensor2tensor/models/transformer.py:1290) model_hp_ffn_filter: {\"filter_size\": 2048, \"use_bias\": \"True\", \"activation\": \"relu\"}\n",
      ":::MLPv0.5.0 transformer 1580438320.280112982 (/usr/local/lib/python3.7/site-packages/tensor2tensor/models/transformer.py:1290) model_hp_ffn_dense: {\"hidden_size\": 512, \"use_bias\": \"True\"}\n",
      ":::MLPv0.5.0 transformer 1580438320.355221987 (/usr/local/lib/python3.7/site-packages/tensor2tensor/models/transformer.py:1290) model_hp_relu_dropout: 0.0\n",
      ":::MLPv0.5.0 transformer 1580438320.444935799 (/usr/local/lib/python3.7/site-packages/tensor2tensor/models/transformer.py:1290) model_hp_ffn_filter: {\"filter_size\": 2048, \"use_bias\": \"True\", \"activation\": \"relu\"}\n",
      ":::MLPv0.5.0 transformer 1580438320.533808947 (/usr/local/lib/python3.7/site-packages/tensor2tensor/models/transformer.py:1290) model_hp_ffn_dense: {\"hidden_size\": 512, \"use_bias\": \"True\"}\n",
      ":::MLPv0.5.0 transformer 1580438320.625858068 (/usr/local/lib/python3.7/site-packages/tensor2tensor/models/transformer.py:1290) model_hp_relu_dropout: 0.0\n",
      ":::MLPv0.5.0 transformer 1580438320.902658701 (/usr/local/lib/python3.7/site-packages/tensor2tensor/models/transformer.py:1290) model_hp_ffn_filter: {\"filter_size\": 2048, \"use_bias\": \"True\", \"activation\": \"relu\"}\n",
      ":::MLPv0.5.0 transformer 1580438320.997465134 (/usr/local/lib/python3.7/site-packages/tensor2tensor/models/transformer.py:1290) model_hp_ffn_dense: {\"hidden_size\": 512, \"use_bias\": \"True\"}\n",
      ":::MLPv0.5.0 transformer 1580438321.086109400 (/usr/local/lib/python3.7/site-packages/tensor2tensor/models/transformer.py:1290) model_hp_relu_dropout: 0.0\n",
      ":::MLPv0.5.0 transformer 1580438321.196662426 (/usr/local/lib/python3.7/site-packages/tensor2tensor/models/transformer.py:1290) model_hp_ffn_filter: {\"filter_size\": 2048, \"use_bias\": \"True\", \"activation\": \"relu\"}\n",
      ":::MLPv0.5.0 transformer 1580438321.274873495 (/usr/local/lib/python3.7/site-packages/tensor2tensor/models/transformer.py:1290) model_hp_ffn_dense: {\"hidden_size\": 512, \"use_bias\": \"True\"}\n",
      ":::MLPv0.5.0 transformer 1580438321.351096392 (/usr/local/lib/python3.7/site-packages/tensor2tensor/models/transformer.py:1290) model_hp_relu_dropout: 0.0\n",
      ":::MLPv0.5.0 transformer 1580438321.453122377 (/usr/local/lib/python3.7/site-packages/tensor2tensor/models/transformer.py:1290) model_hp_ffn_filter: {\"filter_size\": 2048, \"use_bias\": \"True\", \"activation\": \"relu\"}\n",
      ":::MLPv0.5.0 transformer 1580438321.673865318 (/usr/local/lib/python3.7/site-packages/tensor2tensor/models/transformer.py:1290) model_hp_ffn_dense: {\"hidden_size\": 512, \"use_bias\": \"True\"}\n",
      ":::MLPv0.5.0 transformer 1580438321.765804291 (/usr/local/lib/python3.7/site-packages/tensor2tensor/models/transformer.py:1290) model_hp_relu_dropout: 0.0\n",
      ":::MLPv0.5.0 transformer 1580438321.849904060 (/usr/local/lib/python3.7/site-packages/tensor2tensor/models/transformer.py:153) model_hp_norm: {\"hidden_size\": 512}\n",
      ":::MLPv0.5.0 transformer 1580438321.994220495 (/usr/local/lib/python3.7/site-packages/tensor2tensor/utils/expert_utils.py:231) model_hp_layer_postprocess_dropout: 0.0\n",
      ":::MLPv0.5.0 transformer 1580438322.073800564 (/usr/local/lib/python3.7/site-packages/tensor2tensor/models/transformer.py:153) model_hp_hidden_layers: 6\n",
      ":::MLPv0.5.0 transformer 1580438322.154873610 (/usr/local/lib/python3.7/site-packages/tensor2tensor/models/transformer.py:153) model_hp_attention_num_heads: 8\n",
      ":::MLPv0.5.0 transformer 1580438322.229782820 (/usr/local/lib/python3.7/site-packages/tensor2tensor/models/transformer.py:153) model_hp_attention_dropout: 0.0\n",
      ":::MLPv0.5.0 transformer 1580438322.389589787 (/usr/local/lib/python3.7/site-packages/tensor2tensor/models/transformer.py:1290) model_hp_ffn_filter: {\"filter_size\": 2048, \"use_bias\": \"True\", \"activation\": \"relu\"}\n",
      ":::MLPv0.5.0 transformer 1580438322.508589029 (/usr/local/lib/python3.7/site-packages/tensor2tensor/models/transformer.py:1290) model_hp_ffn_dense: {\"hidden_size\": 512, \"use_bias\": \"True\"}\n",
      ":::MLPv0.5.0 transformer 1580438322.602802992 (/usr/local/lib/python3.7/site-packages/tensor2tensor/models/transformer.py:1290) model_hp_relu_dropout: 0.0\n",
      ":::MLPv0.5.0 transformer 1580438322.716393471 (/usr/local/lib/python3.7/site-packages/tensor2tensor/models/transformer.py:1290) model_hp_ffn_filter: {\"filter_size\": 2048, \"use_bias\": \"True\", \"activation\": \"relu\"}\n",
      ":::MLPv0.5.0 transformer 1580438322.793148518 (/usr/local/lib/python3.7/site-packages/tensor2tensor/models/transformer.py:1290) model_hp_ffn_dense: {\"hidden_size\": 512, \"use_bias\": \"True\"}\n",
      ":::MLPv0.5.0 transformer 1580438323.038479567 (/usr/local/lib/python3.7/site-packages/tensor2tensor/models/transformer.py:1290) model_hp_relu_dropout: 0.0\n",
      ":::MLPv0.5.0 transformer 1580438323.144718647 (/usr/local/lib/python3.7/site-packages/tensor2tensor/models/transformer.py:1290) model_hp_ffn_filter: {\"filter_size\": 2048, \"use_bias\": \"True\", \"activation\": \"relu\"}\n",
      ":::MLPv0.5.0 transformer 1580438323.234181404 (/usr/local/lib/python3.7/site-packages/tensor2tensor/models/transformer.py:1290) model_hp_ffn_dense: {\"hidden_size\": 512, \"use_bias\": \"True\"}\n",
      ":::MLPv0.5.0 transformer 1580438323.316304922 (/usr/local/lib/python3.7/site-packages/tensor2tensor/models/transformer.py:1290) model_hp_relu_dropout: 0.0\n",
      ":::MLPv0.5.0 transformer 1580438323.403369188 (/usr/local/lib/python3.7/site-packages/tensor2tensor/models/transformer.py:1290) model_hp_ffn_filter: {\"filter_size\": 2048, \"use_bias\": \"True\", \"activation\": \"relu\"}\n",
      ":::MLPv0.5.0 transformer 1580438323.473128557 (/usr/local/lib/python3.7/site-packages/tensor2tensor/models/transformer.py:1290) model_hp_ffn_dense: {\"hidden_size\": 512, \"use_bias\": \"True\"}\n",
      ":::MLPv0.5.0 transformer 1580438323.548299074 (/usr/local/lib/python3.7/site-packages/tensor2tensor/models/transformer.py:1290) model_hp_relu_dropout: 0.0\n",
      ":::MLPv0.5.0 transformer 1580438323.681736231 (/usr/local/lib/python3.7/site-packages/tensor2tensor/models/transformer.py:1290) model_hp_ffn_filter: {\"filter_size\": 2048, \"use_bias\": \"True\", \"activation\": \"relu\"}\n",
      ":::MLPv0.5.0 transformer 1580438323.919362545 (/usr/local/lib/python3.7/site-packages/tensor2tensor/models/transformer.py:1290) model_hp_ffn_dense: {\"hidden_size\": 512, \"use_bias\": \"True\"}\n",
      ":::MLPv0.5.0 transformer 1580438324.011753559 (/usr/local/lib/python3.7/site-packages/tensor2tensor/models/transformer.py:1290) model_hp_relu_dropout: 0.0\n",
      ":::MLPv0.5.0 transformer 1580438324.116311073 (/usr/local/lib/python3.7/site-packages/tensor2tensor/models/transformer.py:1290) model_hp_ffn_filter: {\"filter_size\": 2048, \"use_bias\": \"True\", \"activation\": \"relu\"}\n",
      ":::MLPv0.5.0 transformer 1580438324.203413010 (/usr/local/lib/python3.7/site-packages/tensor2tensor/models/transformer.py:1290) model_hp_ffn_dense: {\"hidden_size\": 512, \"use_bias\": \"True\"}\n",
      ":::MLPv0.5.0 transformer 1580438324.275384426 (/usr/local/lib/python3.7/site-packages/tensor2tensor/models/transformer.py:1290) model_hp_relu_dropout: 0.0\n",
      ":::MLPv0.5.0 transformer 1580438324.356919289 (/usr/local/lib/python3.7/site-packages/tensor2tensor/models/transformer.py:153) model_hp_norm: {\"hidden_size\": 512}\n",
      ":::MLPv0.5.0 transformer 1580438324.435238600 (/usr/local/lib/python3.7/site-packages/tensor2tensor/utils/expert_utils.py:231) model_hp_layer_postprocess_dropout: 0.0\n",
      ":::MLPv0.5.0 transformer 1580438324.504831076 (/usr/local/lib/python3.7/site-packages/tensor2tensor/models/transformer.py:153) model_hp_hidden_layers: 6\n",
      ":::MLPv0.5.0 transformer 1580438324.757799149 (/usr/local/lib/python3.7/site-packages/tensor2tensor/models/transformer.py:153) model_hp_attention_num_heads: 8\n",
      ":::MLPv0.5.0 transformer 1580438324.830478191 (/usr/local/lib/python3.7/site-packages/tensor2tensor/models/transformer.py:153) model_hp_attention_dropout: 0.0\n",
      ":::MLPv0.5.0 transformer 1580438324.921721697 (/usr/local/lib/python3.7/site-packages/tensor2tensor/models/transformer.py:1290) model_hp_ffn_filter: {\"filter_size\": 2048, \"use_bias\": \"True\", \"activation\": \"relu\"}\n",
      ":::MLPv0.5.0 transformer 1580438324.993692636 (/usr/local/lib/python3.7/site-packages/tensor2tensor/models/transformer.py:1290) model_hp_ffn_dense: {\"hidden_size\": 512, \"use_bias\": \"True\"}\n",
      ":::MLPv0.5.0 transformer 1580438325.084193945 (/usr/local/lib/python3.7/site-packages/tensor2tensor/models/transformer.py:1290) model_hp_relu_dropout: 0.0\n",
      ":::MLPv0.5.0 transformer 1580438325.172308207 (/usr/local/lib/python3.7/site-packages/tensor2tensor/models/transformer.py:1290) model_hp_ffn_filter: {\"filter_size\": 2048, \"use_bias\": \"True\", \"activation\": \"relu\"}\n",
      ":::MLPv0.5.0 transformer 1580438325.244818926 (/usr/local/lib/python3.7/site-packages/tensor2tensor/models/transformer.py:1290) model_hp_ffn_dense: {\"hidden_size\": 512, \"use_bias\": \"True\"}\n",
      ":::MLPv0.5.0 transformer 1580438325.332425117 (/usr/local/lib/python3.7/site-packages/tensor2tensor/models/transformer.py:1290) model_hp_relu_dropout: 0.0\n",
      ":::MLPv0.5.0 transformer 1580438325.418673515 (/usr/local/lib/python3.7/site-packages/tensor2tensor/models/transformer.py:1290) model_hp_ffn_filter: {\"filter_size\": 2048, \"use_bias\": \"True\", \"activation\": \"relu\"}\n",
      ":::MLPv0.5.0 transformer 1580438325.500112534 (/usr/local/lib/python3.7/site-packages/tensor2tensor/models/transformer.py:1290) model_hp_ffn_dense: {\"hidden_size\": 512, \"use_bias\": \"True\"}\n",
      ":::MLPv0.5.0 transformer 1580438325.570726156 (/usr/local/lib/python3.7/site-packages/tensor2tensor/models/transformer.py:1290) model_hp_relu_dropout: 0.0\n",
      ":::MLPv0.5.0 transformer 1580438325.798309803 (/usr/local/lib/python3.7/site-packages/tensor2tensor/models/transformer.py:1290) model_hp_ffn_filter: {\"filter_size\": 2048, \"use_bias\": \"True\", \"activation\": \"relu\"}\n",
      ":::MLPv0.5.0 transformer 1580438325.866476297 (/usr/local/lib/python3.7/site-packages/tensor2tensor/models/transformer.py:1290) model_hp_ffn_dense: {\"hidden_size\": 512, \"use_bias\": \"True\"}\n",
      ":::MLPv0.5.0 transformer 1580438325.935027122 (/usr/local/lib/python3.7/site-packages/tensor2tensor/models/transformer.py:1290) model_hp_relu_dropout: 0.0\n",
      ":::MLPv0.5.0 transformer 1580438326.020189762 (/usr/local/lib/python3.7/site-packages/tensor2tensor/models/transformer.py:1290) model_hp_ffn_filter: {\"filter_size\": 2048, \"use_bias\": \"True\", \"activation\": \"relu\"}\n",
      ":::MLPv0.5.0 transformer 1580438326.104132652 (/usr/local/lib/python3.7/site-packages/tensor2tensor/models/transformer.py:1290) model_hp_ffn_dense: {\"hidden_size\": 512, \"use_bias\": \"True\"}\n",
      ":::MLPv0.5.0 transformer 1580438326.201110840 (/usr/local/lib/python3.7/site-packages/tensor2tensor/models/transformer.py:1290) model_hp_relu_dropout: 0.0\n",
      ":::MLPv0.5.0 transformer 1580438326.297762394 (/usr/local/lib/python3.7/site-packages/tensor2tensor/models/transformer.py:1290) model_hp_ffn_filter: {\"filter_size\": 2048, \"use_bias\": \"True\", \"activation\": \"relu\"}\n",
      ":::MLPv0.5.0 transformer 1580438326.377874374 (/usr/local/lib/python3.7/site-packages/tensor2tensor/models/transformer.py:1290) model_hp_ffn_dense: {\"hidden_size\": 512, \"use_bias\": \"True\"}\n",
      ":::MLPv0.5.0 transformer 1580438326.448951244 (/usr/local/lib/python3.7/site-packages/tensor2tensor/models/transformer.py:1290) model_hp_relu_dropout: 0.0\n",
      ":::MLPv0.5.0 transformer 1580438326.646231651 (/usr/local/lib/python3.7/site-packages/tensor2tensor/models/transformer.py:153) model_hp_norm: {\"hidden_size\": 512}\n",
      ":::MLPv0.5.0 transformer 1580438326.726270676 (/usr/local/lib/python3.7/site-packages/tensor2tensor/utils/expert_utils.py:231) model_hp_layer_postprocess_dropout: 0.0\n",
      ":::MLPv0.5.0 transformer 1580438326.776017427 (/usr/local/lib/python3.7/site-packages/tensor2tensor/models/transformer.py:153) model_hp_hidden_layers: 6\n",
      ":::MLPv0.5.0 transformer 1580438326.853078127 (/usr/local/lib/python3.7/site-packages/tensor2tensor/models/transformer.py:153) model_hp_attention_num_heads: 8\n",
      ":::MLPv0.5.0 transformer 1580438326.941448212 (/usr/local/lib/python3.7/site-packages/tensor2tensor/models/transformer.py:153) model_hp_attention_dropout: 0.0\n",
      ":::MLPv0.5.0 transformer 1580438327.078680515 (/usr/local/lib/python3.7/site-packages/tensor2tensor/models/transformer.py:1290) model_hp_ffn_filter: {\"filter_size\": 2048, \"use_bias\": \"True\", \"activation\": \"relu\"}\n",
      ":::MLPv0.5.0 transformer 1580438327.169969082 (/usr/local/lib/python3.7/site-packages/tensor2tensor/models/transformer.py:1290) model_hp_ffn_dense: {\"hidden_size\": 512, \"use_bias\": \"True\"}\n",
      ":::MLPv0.5.0 transformer 1580438327.358135223 (/usr/local/lib/python3.7/site-packages/tensor2tensor/models/transformer.py:1290) model_hp_relu_dropout: 0.0\n",
      ":::MLPv0.5.0 transformer 1580438327.452167749 (/usr/local/lib/python3.7/site-packages/tensor2tensor/models/transformer.py:1290) model_hp_ffn_filter: {\"filter_size\": 2048, \"use_bias\": \"True\", \"activation\": \"relu\"}\n",
      ":::MLPv0.5.0 transformer 1580438327.550532579 (/usr/local/lib/python3.7/site-packages/tensor2tensor/models/transformer.py:1290) model_hp_ffn_dense: {\"hidden_size\": 512, \"use_bias\": \"True\"}\n",
      ":::MLPv0.5.0 transformer 1580438327.622924566 (/usr/local/lib/python3.7/site-packages/tensor2tensor/models/transformer.py:1290) model_hp_relu_dropout: 0.0\n",
      ":::MLPv0.5.0 transformer 1580438327.764189243 (/usr/local/lib/python3.7/site-packages/tensor2tensor/models/transformer.py:1290) model_hp_ffn_filter: {\"filter_size\": 2048, \"use_bias\": \"True\", \"activation\": \"relu\"}\n",
      ":::MLPv0.5.0 transformer 1580438327.842652321 (/usr/local/lib/python3.7/site-packages/tensor2tensor/models/transformer.py:1290) model_hp_ffn_dense: {\"hidden_size\": 512, \"use_bias\": \"True\"}\n",
      ":::MLPv0.5.0 transformer 1580438327.922616482 (/usr/local/lib/python3.7/site-packages/tensor2tensor/models/transformer.py:1290) model_hp_relu_dropout: 0.0\n",
      ":::MLPv0.5.0 transformer 1580438328.009657860 (/usr/local/lib/python3.7/site-packages/tensor2tensor/models/transformer.py:1290) model_hp_ffn_filter: {\"filter_size\": 2048, \"use_bias\": \"True\", \"activation\": \"relu\"}\n",
      ":::MLPv0.5.0 transformer 1580438328.079298019 (/usr/local/lib/python3.7/site-packages/tensor2tensor/models/transformer.py:1290) model_hp_ffn_dense: {\"hidden_size\": 512, \"use_bias\": \"True\"}\n",
      ":::MLPv0.5.0 transformer 1580438328.159310579 (/usr/local/lib/python3.7/site-packages/tensor2tensor/models/transformer.py:1290) model_hp_relu_dropout: 0.0\n",
      ":::MLPv0.5.0 transformer 1580438328.302570820 (/usr/local/lib/python3.7/site-packages/tensor2tensor/models/transformer.py:1290) model_hp_ffn_filter: {\"filter_size\": 2048, \"use_bias\": \"True\", \"activation\": \"relu\"}\n",
      ":::MLPv0.5.0 transformer 1580438328.384856224 (/usr/local/lib/python3.7/site-packages/tensor2tensor/models/transformer.py:1290) model_hp_ffn_dense: {\"hidden_size\": 512, \"use_bias\": \"True\"}\n",
      ":::MLPv0.5.0 transformer 1580438328.576072693 (/usr/local/lib/python3.7/site-packages/tensor2tensor/models/transformer.py:1290) model_hp_relu_dropout: 0.0\n",
      ":::MLPv0.5.0 transformer 1580438328.666518927 (/usr/local/lib/python3.7/site-packages/tensor2tensor/models/transformer.py:1290) model_hp_ffn_filter: {\"filter_size\": 2048, \"use_bias\": \"True\", \"activation\": \"relu\"}\n",
      ":::MLPv0.5.0 transformer 1580438328.737468958 (/usr/local/lib/python3.7/site-packages/tensor2tensor/models/transformer.py:1290) model_hp_ffn_dense: {\"hidden_size\": 512, \"use_bias\": \"True\"}\n",
      ":::MLPv0.5.0 transformer 1580438328.807119131 (/usr/local/lib/python3.7/site-packages/tensor2tensor/models/transformer.py:1290) model_hp_relu_dropout: 0.0\n",
      ":::MLPv0.5.0 transformer 1580438328.880892754 (/usr/local/lib/python3.7/site-packages/tensor2tensor/models/transformer.py:153) model_hp_norm: {\"hidden_size\": 512}\n",
      ":::MLPv0.5.0 transformer 1580438328.964144707 (/usr/local/lib/python3.7/site-packages/tensor2tensor/utils/expert_utils.py:231) model_hp_layer_postprocess_dropout: 0.0\n",
      ":::MLPv0.5.0 transformer 1580438329.035723209 (/usr/local/lib/python3.7/site-packages/tensor2tensor/models/transformer.py:153) model_hp_hidden_layers: 6\n",
      ":::MLPv0.5.0 transformer 1580438329.104040861 (/usr/local/lib/python3.7/site-packages/tensor2tensor/models/transformer.py:153) model_hp_attention_num_heads: 8\n",
      ":::MLPv0.5.0 transformer 1580438329.289767027 (/usr/local/lib/python3.7/site-packages/tensor2tensor/models/transformer.py:153) model_hp_attention_dropout: 0.0\n",
      ":::MLPv0.5.0 transformer 1580438329.375913143 (/usr/local/lib/python3.7/site-packages/tensor2tensor/models/transformer.py:1290) model_hp_ffn_filter: {\"filter_size\": 2048, \"use_bias\": \"True\", \"activation\": \"relu\"}\n",
      ":::MLPv0.5.0 transformer 1580438329.447687626 (/usr/local/lib/python3.7/site-packages/tensor2tensor/models/transformer.py:1290) model_hp_ffn_dense: {\"hidden_size\": 512, \"use_bias\": \"True\"}\n",
      ":::MLPv0.5.0 transformer 1580438329.524025679 (/usr/local/lib/python3.7/site-packages/tensor2tensor/models/transformer.py:1290) model_hp_relu_dropout: 0.0\n",
      ":::MLPv0.5.0 transformer 1580438329.606920242 (/usr/local/lib/python3.7/site-packages/tensor2tensor/models/transformer.py:1290) model_hp_ffn_filter: {\"filter_size\": 2048, \"use_bias\": \"True\", \"activation\": \"relu\"}\n",
      ":::MLPv0.5.0 transformer 1580438329.674709320 (/usr/local/lib/python3.7/site-packages/tensor2tensor/models/transformer.py:1290) model_hp_ffn_dense: {\"hidden_size\": 512, \"use_bias\": \"True\"}\n",
      ":::MLPv0.5.0 transformer 1580438329.760344505 (/usr/local/lib/python3.7/site-packages/tensor2tensor/models/transformer.py:1290) model_hp_relu_dropout: 0.0\n",
      ":::MLPv0.5.0 transformer 1580438329.871376753 (/usr/local/lib/python3.7/site-packages/tensor2tensor/models/transformer.py:1290) model_hp_ffn_filter: {\"filter_size\": 2048, \"use_bias\": \"True\", \"activation\": \"relu\"}\n",
      ":::MLPv0.5.0 transformer 1580438330.060360193 (/usr/local/lib/python3.7/site-packages/tensor2tensor/models/transformer.py:1290) model_hp_ffn_dense: {\"hidden_size\": 512, \"use_bias\": \"True\"}\n",
      ":::MLPv0.5.0 transformer 1580438330.131962061 (/usr/local/lib/python3.7/site-packages/tensor2tensor/models/transformer.py:1290) model_hp_relu_dropout: 0.0\n",
      ":::MLPv0.5.0 transformer 1580438330.217228174 (/usr/local/lib/python3.7/site-packages/tensor2tensor/models/transformer.py:1290) model_hp_ffn_filter: {\"filter_size\": 2048, \"use_bias\": \"True\", \"activation\": \"relu\"}\n",
      ":::MLPv0.5.0 transformer 1580438330.284139156 (/usr/local/lib/python3.7/site-packages/tensor2tensor/models/transformer.py:1290) model_hp_ffn_dense: {\"hidden_size\": 512, \"use_bias\": \"True\"}\n",
      ":::MLPv0.5.0 transformer 1580438330.358417988 (/usr/local/lib/python3.7/site-packages/tensor2tensor/models/transformer.py:1290) model_hp_relu_dropout: 0.0\n",
      ":::MLPv0.5.0 transformer 1580438330.446365595 (/usr/local/lib/python3.7/site-packages/tensor2tensor/models/transformer.py:1290) model_hp_ffn_filter: {\"filter_size\": 2048, \"use_bias\": \"True\", \"activation\": \"relu\"}\n",
      ":::MLPv0.5.0 transformer 1580438330.557264090 (/usr/local/lib/python3.7/site-packages/tensor2tensor/models/transformer.py:1290) model_hp_ffn_dense: {\"hidden_size\": 512, \"use_bias\": \"True\"}\n",
      ":::MLPv0.5.0 transformer 1580438330.642644882 (/usr/local/lib/python3.7/site-packages/tensor2tensor/models/transformer.py:1290) model_hp_relu_dropout: 0.0\n",
      ":::MLPv0.5.0 transformer 1580438330.739492655 (/usr/local/lib/python3.7/site-packages/tensor2tensor/models/transformer.py:1290) model_hp_ffn_filter: {\"filter_size\": 2048, \"use_bias\": \"True\", \"activation\": \"relu\"}\n",
      ":::MLPv0.5.0 transformer 1580438330.809363604 (/usr/local/lib/python3.7/site-packages/tensor2tensor/models/transformer.py:1290) model_hp_ffn_dense: {\"hidden_size\": 512, \"use_bias\": \"True\"}\n",
      ":::MLPv0.5.0 transformer 1580438330.879632473 (/usr/local/lib/python3.7/site-packages/tensor2tensor/models/transformer.py:1290) model_hp_relu_dropout: 0.0\n",
      ":::MLPv0.5.0 transformer 1580438331.076652050 (/usr/local/lib/python3.7/site-packages/tensor2tensor/models/transformer.py:153) model_hp_norm: {\"hidden_size\": 512}\n",
      "elapsed_time:34.372862577438354\n",
      "translate completed\n",
      "私の猫はとてもかわいいです。\n"
     ]
    }
   ],
   "source": [
    "inputs = \"My cat is so cute.\"\n",
    "outputs = translate(inputs)\n",
    "print(outputs)"
   ]
  }
 ],
 "metadata": {
  "kernelspec": {
   "display_name": "Python 3",
   "language": "python",
   "name": "python3"
  },
  "language_info": {
   "codemirror_mode": {
    "name": "ipython",
    "version": 3
   },
   "file_extension": ".py",
   "mimetype": "text/x-python",
   "name": "python",
   "nbconvert_exporter": "python",
   "pygments_lexer": "ipython3",
   "version": "3.7.6"
  }
 },
 "nbformat": 4,
 "nbformat_minor": 4
}
